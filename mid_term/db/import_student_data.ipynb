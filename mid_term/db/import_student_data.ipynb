{
 "cells": [
  {
   "cell_type": "code",
   "execution_count": 1,
   "id": "b339c564-4bf3-4b0d-9204-06a6be1e371a",
   "metadata": {},
   "outputs": [],
   "source": [
    "import pandas as pd\n",
    "from pymongo import MongoClient"
   ]
  },
  {
   "cell_type": "code",
   "execution_count": 2,
   "id": "1a0720f8-dddc-476c-a2f5-bdb63c72a42f",
   "metadata": {},
   "outputs": [],
   "source": [
    "client = MongoClient(\"mongodb://127.0.0.1:27017/?directConnection=true&serverSelectionTimeoutMS=2000&appName=mongosh+2.3.1\")"
   ]
  },
  {
   "cell_type": "code",
   "execution_count": 5,
   "id": "a65e0917-9c77-4e13-aaf7-27d9bc79f2c6",
   "metadata": {},
   "outputs": [],
   "source": [
    "students = pd.read_json('https://raw.githubusercontent.com/ozlerhakan/mongodb-json-files/refs/heads/master/datasets/students.json', lines=True)"
   ]
  },
  {
   "cell_type": "code",
   "execution_count": 4,
   "id": "82a3014c-de0d-4907-9b76-3985b24c5af6",
   "metadata": {},
   "outputs": [
    {
     "data": {
      "text/html": [
       "<div>\n",
       "<style scoped>\n",
       "    .dataframe tbody tr th:only-of-type {\n",
       "        vertical-align: middle;\n",
       "    }\n",
       "\n",
       "    .dataframe tbody tr th {\n",
       "        vertical-align: top;\n",
       "    }\n",
       "\n",
       "    .dataframe thead th {\n",
       "        text-align: right;\n",
       "    }\n",
       "</style>\n",
       "<table border=\"1\" class=\"dataframe\">\n",
       "  <thead>\n",
       "    <tr style=\"text-align: right;\">\n",
       "      <th></th>\n",
       "      <th>_id</th>\n",
       "      <th>name</th>\n",
       "      <th>scores</th>\n",
       "    </tr>\n",
       "  </thead>\n",
       "  <tbody>\n",
       "    <tr>\n",
       "      <th>0</th>\n",
       "      <td>0</td>\n",
       "      <td>aimee Zank</td>\n",
       "      <td>[{'score': 1.463179736705023, 'type': 'exam'},...</td>\n",
       "    </tr>\n",
       "    <tr>\n",
       "      <th>1</th>\n",
       "      <td>1</td>\n",
       "      <td>Aurelia Menendez</td>\n",
       "      <td>[{'score': 60.06045071030959, 'type': 'exam'},...</td>\n",
       "    </tr>\n",
       "    <tr>\n",
       "      <th>2</th>\n",
       "      <td>2</td>\n",
       "      <td>Corliss Zuk</td>\n",
       "      <td>[{'score': 67.03077096065002, 'type': 'exam'},...</td>\n",
       "    </tr>\n",
       "    <tr>\n",
       "      <th>3</th>\n",
       "      <td>3</td>\n",
       "      <td>Bao Ziglar</td>\n",
       "      <td>[{'score': 71.64343899778332, 'type': 'exam'},...</td>\n",
       "    </tr>\n",
       "    <tr>\n",
       "      <th>4</th>\n",
       "      <td>4</td>\n",
       "      <td>Zachary Langlais</td>\n",
       "      <td>[{'score': 78.68385091304332, 'type': 'exam'},...</td>\n",
       "    </tr>\n",
       "    <tr>\n",
       "      <th>...</th>\n",
       "      <td>...</td>\n",
       "      <td>...</td>\n",
       "      <td>...</td>\n",
       "    </tr>\n",
       "    <tr>\n",
       "      <th>195</th>\n",
       "      <td>195</td>\n",
       "      <td>Linnie Weigel</td>\n",
       "      <td>[{'score': 52.44578368517977, 'type': 'exam'},...</td>\n",
       "    </tr>\n",
       "    <tr>\n",
       "      <th>196</th>\n",
       "      <td>196</td>\n",
       "      <td>Santiago Dollins</td>\n",
       "      <td>[{'score': 52.04052571137036, 'type': 'exam'},...</td>\n",
       "    </tr>\n",
       "    <tr>\n",
       "      <th>197</th>\n",
       "      <td>197</td>\n",
       "      <td>Tonisha Games</td>\n",
       "      <td>[{'score': 38.51269589995049, 'type': 'exam'},...</td>\n",
       "    </tr>\n",
       "    <tr>\n",
       "      <th>198</th>\n",
       "      <td>198</td>\n",
       "      <td>Timothy Harrod</td>\n",
       "      <td>[{'score': 11.9075674046519, 'type': 'exam'}, ...</td>\n",
       "    </tr>\n",
       "    <tr>\n",
       "      <th>199</th>\n",
       "      <td>199</td>\n",
       "      <td>Rae Kohout</td>\n",
       "      <td>[{'score': 82.11742562118049, 'type': 'exam'},...</td>\n",
       "    </tr>\n",
       "  </tbody>\n",
       "</table>\n",
       "<p>200 rows × 3 columns</p>\n",
       "</div>"
      ],
      "text/plain": [
       "     _id              name                                             scores\n",
       "0      0        aimee Zank  [{'score': 1.463179736705023, 'type': 'exam'},...\n",
       "1      1  Aurelia Menendez  [{'score': 60.06045071030959, 'type': 'exam'},...\n",
       "2      2       Corliss Zuk  [{'score': 67.03077096065002, 'type': 'exam'},...\n",
       "3      3        Bao Ziglar  [{'score': 71.64343899778332, 'type': 'exam'},...\n",
       "4      4  Zachary Langlais  [{'score': 78.68385091304332, 'type': 'exam'},...\n",
       "..   ...               ...                                                ...\n",
       "195  195     Linnie Weigel  [{'score': 52.44578368517977, 'type': 'exam'},...\n",
       "196  196  Santiago Dollins  [{'score': 52.04052571137036, 'type': 'exam'},...\n",
       "197  197     Tonisha Games  [{'score': 38.51269589995049, 'type': 'exam'},...\n",
       "198  198    Timothy Harrod  [{'score': 11.9075674046519, 'type': 'exam'}, ...\n",
       "199  199        Rae Kohout  [{'score': 82.11742562118049, 'type': 'exam'},...\n",
       "\n",
       "[200 rows x 3 columns]"
      ]
     },
     "execution_count": 4,
     "metadata": {},
     "output_type": "execute_result"
    }
   ],
   "source": [
    "students"
   ]
  },
  {
   "cell_type": "code",
   "execution_count": 6,
   "id": "e12de4d7-7ee1-4f31-a2f5-ba8b36ab5b9d",
   "metadata": {},
   "outputs": [],
   "source": [
    "students = students[['_id','name']]"
   ]
  },
  {
   "cell_type": "code",
   "execution_count": 7,
   "id": "9ec6fd6e-78c3-408d-aabf-4e7e5e285f91",
   "metadata": {
    "scrolled": true
   },
   "outputs": [
    {
     "data": {
      "text/html": [
       "<div>\n",
       "<style scoped>\n",
       "    .dataframe tbody tr th:only-of-type {\n",
       "        vertical-align: middle;\n",
       "    }\n",
       "\n",
       "    .dataframe tbody tr th {\n",
       "        vertical-align: top;\n",
       "    }\n",
       "\n",
       "    .dataframe thead th {\n",
       "        text-align: right;\n",
       "    }\n",
       "</style>\n",
       "<table border=\"1\" class=\"dataframe\">\n",
       "  <thead>\n",
       "    <tr style=\"text-align: right;\">\n",
       "      <th></th>\n",
       "      <th>_id</th>\n",
       "      <th>name</th>\n",
       "    </tr>\n",
       "  </thead>\n",
       "  <tbody>\n",
       "    <tr>\n",
       "      <th>0</th>\n",
       "      <td>0</td>\n",
       "      <td>aimee Zank</td>\n",
       "    </tr>\n",
       "    <tr>\n",
       "      <th>1</th>\n",
       "      <td>1</td>\n",
       "      <td>Aurelia Menendez</td>\n",
       "    </tr>\n",
       "    <tr>\n",
       "      <th>2</th>\n",
       "      <td>2</td>\n",
       "      <td>Corliss Zuk</td>\n",
       "    </tr>\n",
       "    <tr>\n",
       "      <th>3</th>\n",
       "      <td>3</td>\n",
       "      <td>Bao Ziglar</td>\n",
       "    </tr>\n",
       "    <tr>\n",
       "      <th>4</th>\n",
       "      <td>4</td>\n",
       "      <td>Zachary Langlais</td>\n",
       "    </tr>\n",
       "    <tr>\n",
       "      <th>...</th>\n",
       "      <td>...</td>\n",
       "      <td>...</td>\n",
       "    </tr>\n",
       "    <tr>\n",
       "      <th>195</th>\n",
       "      <td>195</td>\n",
       "      <td>Linnie Weigel</td>\n",
       "    </tr>\n",
       "    <tr>\n",
       "      <th>196</th>\n",
       "      <td>196</td>\n",
       "      <td>Santiago Dollins</td>\n",
       "    </tr>\n",
       "    <tr>\n",
       "      <th>197</th>\n",
       "      <td>197</td>\n",
       "      <td>Tonisha Games</td>\n",
       "    </tr>\n",
       "    <tr>\n",
       "      <th>198</th>\n",
       "      <td>198</td>\n",
       "      <td>Timothy Harrod</td>\n",
       "    </tr>\n",
       "    <tr>\n",
       "      <th>199</th>\n",
       "      <td>199</td>\n",
       "      <td>Rae Kohout</td>\n",
       "    </tr>\n",
       "  </tbody>\n",
       "</table>\n",
       "<p>200 rows × 2 columns</p>\n",
       "</div>"
      ],
      "text/plain": [
       "     _id              name\n",
       "0      0        aimee Zank\n",
       "1      1  Aurelia Menendez\n",
       "2      2       Corliss Zuk\n",
       "3      3        Bao Ziglar\n",
       "4      4  Zachary Langlais\n",
       "..   ...               ...\n",
       "195  195     Linnie Weigel\n",
       "196  196  Santiago Dollins\n",
       "197  197     Tonisha Games\n",
       "198  198    Timothy Harrod\n",
       "199  199        Rae Kohout\n",
       "\n",
       "[200 rows x 2 columns]"
      ]
     },
     "execution_count": 7,
     "metadata": {},
     "output_type": "execute_result"
    }
   ],
   "source": [
    "students"
   ]
  },
  {
   "cell_type": "code",
   "execution_count": 10,
   "id": "a83cac16-17f5-4465-8c0d-aa0e4d48d900",
   "metadata": {},
   "outputs": [
    {
     "data": {
      "text/plain": [
       "InsertManyResult([0, 1, 2, 3, 4, 5, 6, 7, 8, 9, 10, 11, 12, 13, 14, 15, 16, 17, 18, 19, 20, 21, 22, 23, 24, 25, 26, 27, 28, 29, 30, 31, 32, 33, 34, 35, 36, 37, 38, 39, 40, 41, 42, 43, 44, 45, 46, 47, 48, 49, 50, 51, 52, 53, 54, 55, 56, 57, 58, 59, 60, 61, 62, 63, 64, 65, 66, 67, 68, 69, 70, 71, 72, 73, 74, 75, 76, 77, 78, 79, 80, 81, 82, 83, 84, 85, 86, 87, 88, 89, 90, 91, 92, 93, 94, 95, 96, 97, 98, 99, 100, 101, 102, 103, 104, 105, 106, 107, 108, 109, 110, 111, 112, 113, 114, 115, 116, 117, 118, 119, 120, 121, 122, 123, 124, 125, 126, 127, 128, 129, 130, 131, 132, 133, 134, 135, 136, 137, 138, 139, 140, 141, 142, 143, 144, 145, 146, 147, 148, 149, 150, 151, 152, 153, 154, 155, 156, 157, 158, 159, 160, 161, 162, 163, 164, 165, 166, 167, 168, 169, 170, 171, 172, 173, 174, 175, 176, 177, 178, 179, 180, 181, 182, 183, 184, 185, 186, 187, 188, 189, 190, 191, 192, 193, 194, 195, 196, 197, 198, 199], acknowledged=True)"
      ]
     },
     "execution_count": 10,
     "metadata": {},
     "output_type": "execute_result"
    }
   ],
   "source": [
    "db = client['test']\n",
    "collection = db['students']\n",
    "\n",
    "students_list = []\n",
    "for index, row in students.iterrows():\n",
    "    student = {\n",
    "        '_id': row['_id'],\n",
    "        'name': row['name'],\n",
    "        'borrowed_books': [],\n",
    "        'expired_books': []\n",
    "    }\n",
    "    students_list.append(student)\n",
    "\n",
    "collection.insert_many(students_list)"
   ]
  }
 ],
 "metadata": {
  "kernelspec": {
   "display_name": "Python 3 (ipykernel)",
   "language": "python",
   "name": "python3"
  },
  "language_info": {
   "codemirror_mode": {
    "name": "ipython",
    "version": 3
   },
   "file_extension": ".py",
   "mimetype": "text/x-python",
   "name": "python",
   "nbconvert_exporter": "python",
   "pygments_lexer": "ipython3",
   "version": "3.10.12"
  }
 },
 "nbformat": 4,
 "nbformat_minor": 5
}
